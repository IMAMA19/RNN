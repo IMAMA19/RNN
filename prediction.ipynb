{
 "cells": [
  {
   "cell_type": "code",
   "execution_count": 3,
   "metadata": {},
   "outputs": [],
   "source": [
    "#Import libraries and Load the Model\n",
    "import numpy as np\n",
    "import tensorflow as tf\n",
    "from tensorflow.keras.datasets import imdb\n",
    "from tensorflow.keras.preprocessing import sequence\n",
    "from tensorflow.keras.models import load_model"
   ]
  },
  {
   "cell_type": "code",
   "execution_count": 4,
   "metadata": {},
   "outputs": [],
   "source": [
    "\n",
    "# Load the IMDB dataset word index\n",
    "word_index = imdb.get_word_index()\n",
    "reverse_word_index = {value: key for key, value in word_index.items()}"
   ]
  },
  {
   "cell_type": "code",
   "execution_count": 5,
   "metadata": {},
   "outputs": [
    {
     "name": "stderr",
     "output_type": "stream",
     "text": [
      "WARNING:absl:Compiled the loaded model, but the compiled metrics have yet to be built. `model.compile_metrics` will be empty until you train or evaluate the model.\n"
     ]
    },
    {
     "data": {
      "text/html": [
       "<pre style=\"white-space:pre;overflow-x:auto;line-height:normal;font-family:Menlo,'DejaVu Sans Mono',consolas,'Courier New',monospace\"><span style=\"font-weight: bold\">Model: \"sequential\"</span>\n",
       "</pre>\n"
      ],
      "text/plain": [
       "\u001b[1mModel: \"sequential\"\u001b[0m\n"
      ]
     },
     "metadata": {},
     "output_type": "display_data"
    },
    {
     "data": {
      "text/html": [
       "<pre style=\"white-space:pre;overflow-x:auto;line-height:normal;font-family:Menlo,'DejaVu Sans Mono',consolas,'Courier New',monospace\">┏━━━━━━━━━━━━━━━━━━━━━━━━━━━━━━━━━┳━━━━━━━━━━━━━━━━━━━━━━━━┳━━━━━━━━━━━━━━━┓\n",
       "┃<span style=\"font-weight: bold\"> Layer (type)                    </span>┃<span style=\"font-weight: bold\"> Output Shape           </span>┃<span style=\"font-weight: bold\">       Param # </span>┃\n",
       "┡━━━━━━━━━━━━━━━━━━━━━━━━━━━━━━━━━╇━━━━━━━━━━━━━━━━━━━━━━━━╇━━━━━━━━━━━━━━━┩\n",
       "│ embedding (<span style=\"color: #0087ff; text-decoration-color: #0087ff\">Embedding</span>)           │ (<span style=\"color: #00af00; text-decoration-color: #00af00\">32</span>, <span style=\"color: #00af00; text-decoration-color: #00af00\">500</span>, <span style=\"color: #00af00; text-decoration-color: #00af00\">128</span>)         │     <span style=\"color: #00af00; text-decoration-color: #00af00\">1,280,000</span> │\n",
       "├─────────────────────────────────┼────────────────────────┼───────────────┤\n",
       "│ simple_rnn (<span style=\"color: #0087ff; text-decoration-color: #0087ff\">SimpleRNN</span>)          │ (<span style=\"color: #00af00; text-decoration-color: #00af00\">32</span>, <span style=\"color: #00af00; text-decoration-color: #00af00\">128</span>)              │        <span style=\"color: #00af00; text-decoration-color: #00af00\">32,896</span> │\n",
       "├─────────────────────────────────┼────────────────────────┼───────────────┤\n",
       "│ dense (<span style=\"color: #0087ff; text-decoration-color: #0087ff\">Dense</span>)                   │ (<span style=\"color: #00af00; text-decoration-color: #00af00\">32</span>, <span style=\"color: #00af00; text-decoration-color: #00af00\">1</span>)                │           <span style=\"color: #00af00; text-decoration-color: #00af00\">129</span> │\n",
       "└─────────────────────────────────┴────────────────────────┴───────────────┘\n",
       "</pre>\n"
      ],
      "text/plain": [
       "┏━━━━━━━━━━━━━━━━━━━━━━━━━━━━━━━━━┳━━━━━━━━━━━━━━━━━━━━━━━━┳━━━━━━━━━━━━━━━┓\n",
       "┃\u001b[1m \u001b[0m\u001b[1mLayer (type)                   \u001b[0m\u001b[1m \u001b[0m┃\u001b[1m \u001b[0m\u001b[1mOutput Shape          \u001b[0m\u001b[1m \u001b[0m┃\u001b[1m \u001b[0m\u001b[1m      Param #\u001b[0m\u001b[1m \u001b[0m┃\n",
       "┡━━━━━━━━━━━━━━━━━━━━━━━━━━━━━━━━━╇━━━━━━━━━━━━━━━━━━━━━━━━╇━━━━━━━━━━━━━━━┩\n",
       "│ embedding (\u001b[38;5;33mEmbedding\u001b[0m)           │ (\u001b[38;5;34m32\u001b[0m, \u001b[38;5;34m500\u001b[0m, \u001b[38;5;34m128\u001b[0m)         │     \u001b[38;5;34m1,280,000\u001b[0m │\n",
       "├─────────────────────────────────┼────────────────────────┼───────────────┤\n",
       "│ simple_rnn (\u001b[38;5;33mSimpleRNN\u001b[0m)          │ (\u001b[38;5;34m32\u001b[0m, \u001b[38;5;34m128\u001b[0m)              │        \u001b[38;5;34m32,896\u001b[0m │\n",
       "├─────────────────────────────────┼────────────────────────┼───────────────┤\n",
       "│ dense (\u001b[38;5;33mDense\u001b[0m)                   │ (\u001b[38;5;34m32\u001b[0m, \u001b[38;5;34m1\u001b[0m)                │           \u001b[38;5;34m129\u001b[0m │\n",
       "└─────────────────────────────────┴────────────────────────┴───────────────┘\n"
      ]
     },
     "metadata": {},
     "output_type": "display_data"
    },
    {
     "data": {
      "text/html": [
       "<pre style=\"white-space:pre;overflow-x:auto;line-height:normal;font-family:Menlo,'DejaVu Sans Mono',consolas,'Courier New',monospace\"><span style=\"font-weight: bold\"> Total params: </span><span style=\"color: #00af00; text-decoration-color: #00af00\">1,313,027</span> (5.01 MB)\n",
       "</pre>\n"
      ],
      "text/plain": [
       "\u001b[1m Total params: \u001b[0m\u001b[38;5;34m1,313,027\u001b[0m (5.01 MB)\n"
      ]
     },
     "metadata": {},
     "output_type": "display_data"
    },
    {
     "data": {
      "text/html": [
       "<pre style=\"white-space:pre;overflow-x:auto;line-height:normal;font-family:Menlo,'DejaVu Sans Mono',consolas,'Courier New',monospace\"><span style=\"font-weight: bold\"> Trainable params: </span><span style=\"color: #00af00; text-decoration-color: #00af00\">1,313,025</span> (5.01 MB)\n",
       "</pre>\n"
      ],
      "text/plain": [
       "\u001b[1m Trainable params: \u001b[0m\u001b[38;5;34m1,313,025\u001b[0m (5.01 MB)\n"
      ]
     },
     "metadata": {},
     "output_type": "display_data"
    },
    {
     "data": {
      "text/html": [
       "<pre style=\"white-space:pre;overflow-x:auto;line-height:normal;font-family:Menlo,'DejaVu Sans Mono',consolas,'Courier New',monospace\"><span style=\"font-weight: bold\"> Non-trainable params: </span><span style=\"color: #00af00; text-decoration-color: #00af00\">0</span> (0.00 B)\n",
       "</pre>\n"
      ],
      "text/plain": [
       "\u001b[1m Non-trainable params: \u001b[0m\u001b[38;5;34m0\u001b[0m (0.00 B)\n"
      ]
     },
     "metadata": {},
     "output_type": "display_data"
    },
    {
     "data": {
      "text/html": [
       "<pre style=\"white-space:pre;overflow-x:auto;line-height:normal;font-family:Menlo,'DejaVu Sans Mono',consolas,'Courier New',monospace\"><span style=\"font-weight: bold\"> Optimizer params: </span><span style=\"color: #00af00; text-decoration-color: #00af00\">2</span> (12.00 B)\n",
       "</pre>\n"
      ],
      "text/plain": [
       "\u001b[1m Optimizer params: \u001b[0m\u001b[38;5;34m2\u001b[0m (12.00 B)\n"
      ]
     },
     "metadata": {},
     "output_type": "display_data"
    }
   ],
   "source": [
    "# Load the pre-trained model with ReLU activation\n",
    "model = load_model('simple_rnn_imdb.h5')\n",
    "model.summary()"
   ]
  },
  {
   "cell_type": "code",
   "execution_count": 6,
   "metadata": {},
   "outputs": [
    {
     "data": {
      "text/plain": [
       "[array([[-0.03934379,  0.07908104, -0.01678138, ...,  0.04768503,\n",
       "          0.00976032, -0.02258692],\n",
       "        [ 0.04207551,  0.01321879,  0.04364212, ...,  0.04660066,\n",
       "          0.06276082, -0.09737512],\n",
       "        [-0.03399786, -0.07710769,  0.13080142, ...,  0.12831093,\n",
       "          0.13850662, -0.08107603],\n",
       "        ...,\n",
       "        [-0.03750718, -0.02657394, -0.01323056, ..., -0.01644577,\n",
       "          0.01415834,  0.00614311],\n",
       "        [ 0.06688252,  0.16527653, -0.09604693, ..., -0.08607993,\n",
       "         -0.09072667,  0.07427095],\n",
       "        [ 0.07128354, -0.09835964,  0.09564417, ...,  0.06143052,\n",
       "          0.04363325,  0.01405886]], dtype=float32),\n",
       " array([[ 0.05544918, -0.02415758, -0.03504632, ...,  0.05296281,\n",
       "         -0.18619561,  0.05661836],\n",
       "        [ 0.07222269,  0.07326576, -0.04527757, ...,  0.03217585,\n",
       "          0.05211905, -0.04292536],\n",
       "        [ 0.10560748,  0.1138033 , -0.07365467, ...,  0.1761845 ,\n",
       "          0.11477023,  0.04858726],\n",
       "        ...,\n",
       "        [-0.07511351, -0.04464201, -0.0272469 , ...,  0.15937062,\n",
       "         -0.06736904,  0.03494926],\n",
       "        [-0.06413087,  0.0436926 , -0.1238526 , ...,  0.15948439,\n",
       "          0.01200242, -0.11649827],\n",
       "        [-0.11674622, -0.01447503, -0.13073857, ...,  0.00688367,\n",
       "          0.061745  , -0.11091845]], dtype=float32),\n",
       " array([[ 1.2401068e-01,  1.2967905e-01,  5.3948478e-04, ...,\n",
       "          2.8676994e-02,  1.2004186e-01, -2.1896966e-02],\n",
       "        [ 1.2693648e-01,  6.3920662e-02,  3.5057865e-02, ...,\n",
       "          2.5737403e-02,  2.1710664e-01,  3.1044533e-02],\n",
       "        [-1.6323110e-02,  1.2441220e-01, -5.3280506e-02, ...,\n",
       "          8.7821856e-05, -6.2192678e-02,  7.5761871e-03],\n",
       "        ...,\n",
       "        [-1.6177464e-02,  2.1703133e-02,  1.9823382e-02, ...,\n",
       "          6.4933382e-02, -2.4705103e-02, -1.8103285e-01],\n",
       "        [ 9.4376758e-02,  8.5045166e-02,  4.7051981e-03, ...,\n",
       "         -1.7576054e-02,  3.7122071e-03,  1.3476760e-02],\n",
       "        [-2.3235792e-02,  1.0696670e-01,  9.5544696e-02, ...,\n",
       "          9.9557914e-02,  4.9158335e-03, -6.0518119e-02]], dtype=float32),\n",
       " array([ 0.04904028,  0.03291259, -0.06477715, -0.03827521, -0.03503249,\n",
       "        -0.00172225, -0.04036418, -0.04355536, -0.02636907,  0.01711308,\n",
       "        -0.04319022,  0.05817074,  0.03998414,  0.00133941, -0.0052539 ,\n",
       "         0.00479103,  0.02012671, -0.00430407, -0.01287998, -0.02895386,\n",
       "        -0.0073185 , -0.021328  ,  0.03549557, -0.01485895, -0.00364604,\n",
       "         0.0275676 , -0.04630468, -0.03397621, -0.04575922,  0.03601802,\n",
       "         0.01239805, -0.04573489,  0.00191949,  0.00647241,  0.02436763,\n",
       "        -0.04416044, -0.02518889,  0.0528641 , -0.0272863 ,  0.00168413,\n",
       "        -0.04482693, -0.04807841, -0.03656541, -0.04486872,  0.03824003,\n",
       "         0.00302479, -0.00439652,  0.00283939,  0.03851105,  0.00473568,\n",
       "        -0.03948398,  0.00609449, -0.00141119, -0.01175006, -0.04902593,\n",
       "        -0.01095173, -0.03927328,  0.05667142,  0.00298063,  0.0056377 ,\n",
       "         0.03632898, -0.03332624,  0.01382102, -0.01173935,  0.03913829,\n",
       "        -0.02884728, -0.01858994, -0.03208629, -0.03642405, -0.06237619,\n",
       "        -0.0361038 ,  0.05478062,  0.00121321,  0.04902285,  0.13073587,\n",
       "        -0.03057303, -0.01848597,  0.05965602, -0.0271208 , -0.04469214,\n",
       "        -0.0185016 ,  0.01535034,  0.03437464,  0.01223344, -0.00105558,\n",
       "        -0.01215415, -0.05109898, -0.03796922, -0.01064725, -0.00538068,\n",
       "        -0.03236956,  0.03138041, -0.01379218, -0.02054031,  0.00778322,\n",
       "         0.04248917, -0.03334409,  0.02289271, -0.0180309 , -0.03686644,\n",
       "        -0.04309328, -0.02374063,  0.03448597, -0.03869509, -0.0125446 ,\n",
       "        -0.01628897,  0.00085978,  0.00563821, -0.04199041,  0.02985   ,\n",
       "        -0.00725454, -0.03838835,  0.04321031, -0.00929095, -0.04137055,\n",
       "        -0.01786398, -0.00728311,  0.00037017, -0.0026864 , -0.02549888,\n",
       "        -0.03884828, -0.02786701, -0.04495711,  0.02202817,  0.03444009,\n",
       "         0.0434018 ,  0.03697674, -0.01183424], dtype=float32),\n",
       " array([[ 0.10418729],\n",
       "        [-0.11838793],\n",
       "        [-0.15141849],\n",
       "        [-0.18104455],\n",
       "        [-0.02292844],\n",
       "        [-0.02935778],\n",
       "        [-0.01574936],\n",
       "        [-0.06532585],\n",
       "        [ 0.19025981],\n",
       "        [-0.17324993],\n",
       "        [-0.13401817],\n",
       "        [ 0.22731747],\n",
       "        [ 0.15340371],\n",
       "        [-0.11859939],\n",
       "        [ 0.08717507],\n",
       "        [ 0.07857706],\n",
       "        [-0.15015821],\n",
       "        [-0.2116635 ],\n",
       "        [ 0.18421993],\n",
       "        [ 0.13648169],\n",
       "        [-0.0702757 ],\n",
       "        [ 0.04741786],\n",
       "        [ 0.1149836 ],\n",
       "        [ 0.01644121],\n",
       "        [ 0.10921378],\n",
       "        [-0.07005132],\n",
       "        [-0.10482081],\n",
       "        [ 0.03018154],\n",
       "        [ 0.0679846 ],\n",
       "        [-0.04423808],\n",
       "        [-0.2124279 ],\n",
       "        [ 0.19791812],\n",
       "        [-0.14050783],\n",
       "        [ 0.16715321],\n",
       "        [ 0.23369029],\n",
       "        [-0.17711268],\n",
       "        [ 0.22802968],\n",
       "        [ 0.17499131],\n",
       "        [ 0.09554666],\n",
       "        [-0.04865746],\n",
       "        [-0.08255585],\n",
       "        [-0.19411083],\n",
       "        [ 0.33290824],\n",
       "        [-0.06641634],\n",
       "        [ 0.10877331],\n",
       "        [ 0.05388753],\n",
       "        [ 0.02028294],\n",
       "        [ 0.15770133],\n",
       "        [-0.2813337 ],\n",
       "        [ 0.09470053],\n",
       "        [-0.15173161],\n",
       "        [-0.16631   ],\n",
       "        [ 0.10075825],\n",
       "        [-0.29714048],\n",
       "        [ 0.11110042],\n",
       "        [-0.19581825],\n",
       "        [ 0.20732763],\n",
       "        [-0.20854244],\n",
       "        [-0.19428715],\n",
       "        [ 0.06495208],\n",
       "        [ 0.00325601],\n",
       "        [ 0.15213135],\n",
       "        [-0.04124824],\n",
       "        [ 0.20402236],\n",
       "        [-0.17899102],\n",
       "        [ 0.06715705],\n",
       "        [ 0.3938717 ],\n",
       "        [-0.23730822],\n",
       "        [-0.23994353],\n",
       "        [-0.0306012 ],\n",
       "        [-0.09227902],\n",
       "        [-0.02086565],\n",
       "        [-0.19335668],\n",
       "        [ 0.11569168],\n",
       "        [ 0.14589252],\n",
       "        [-0.00140231],\n",
       "        [-0.07357176],\n",
       "        [-0.00883329],\n",
       "        [-0.14631648],\n",
       "        [-0.1770388 ],\n",
       "        [-0.29896644],\n",
       "        [-0.18072556],\n",
       "        [-0.14441554],\n",
       "        [ 0.15448056],\n",
       "        [ 0.22287327],\n",
       "        [ 0.11845426],\n",
       "        [-0.01419696],\n",
       "        [ 0.05688128],\n",
       "        [ 0.2703083 ],\n",
       "        [-0.4433338 ],\n",
       "        [ 0.08284399],\n",
       "        [ 0.13903847],\n",
       "        [-0.01137356],\n",
       "        [-0.5423719 ],\n",
       "        [-0.05692217],\n",
       "        [ 0.07039266],\n",
       "        [-0.05589087],\n",
       "        [ 0.02317588],\n",
       "        [-0.5279606 ],\n",
       "        [-0.16707483],\n",
       "        [ 0.00071481],\n",
       "        [-0.12391846],\n",
       "        [ 0.16138308],\n",
       "        [-0.07942851],\n",
       "        [-0.32112944],\n",
       "        [ 0.09541544],\n",
       "        [-0.16532743],\n",
       "        [-0.1382162 ],\n",
       "        [-0.0873275 ],\n",
       "        [ 0.20858403],\n",
       "        [ 0.1782114 ],\n",
       "        [ 0.12058322],\n",
       "        [-0.05752445],\n",
       "        [-0.06522498],\n",
       "        [-0.10698691],\n",
       "        [ 0.06383221],\n",
       "        [-0.14975616],\n",
       "        [ 0.1596747 ],\n",
       "        [ 0.1707429 ],\n",
       "        [-0.21300891],\n",
       "        [-0.06034332],\n",
       "        [-0.07556356],\n",
       "        [ 0.2210486 ],\n",
       "        [ 0.1045089 ],\n",
       "        [-0.1608493 ],\n",
       "        [-0.05203554],\n",
       "        [ 0.04855325],\n",
       "        [-0.19215202]], dtype=float32),\n",
       " array([-0.7868295], dtype=float32)]"
      ]
     },
     "execution_count": 6,
     "metadata": {},
     "output_type": "execute_result"
    }
   ],
   "source": [
    "model.get_weights()"
   ]
  },
  {
   "cell_type": "code",
   "execution_count": 7,
   "metadata": {},
   "outputs": [],
   "source": [
    "# Step 2: Helper Functions\n",
    "# Function to decode reviews\n",
    "def decode_review(encoded_review):\n",
    "    return ' '.join([reverse_word_index.get(i - 3, '?') for i in encoded_review])\n",
    "\n",
    "# Function to preprocess user input\n",
    "def preprocess_text(text):\n",
    "    words = text.lower().split()\n",
    "    encoded_review = [word_index.get(word, 2) + 3 for word in words]\n",
    "    padded_review = sequence.pad_sequences([encoded_review], maxlen=500)\n",
    "    return padded_review"
   ]
  },
  {
   "cell_type": "code",
   "execution_count": 8,
   "metadata": {},
   "outputs": [],
   "source": [
    "### Prediction  function\n",
    "\n",
    "def predict_sentiment(review):\n",
    "    preprocessed_input=preprocess_text(review)\n",
    "\n",
    "    prediction=model.predict(preprocessed_input)\n",
    "\n",
    "    sentiment = 'Positive' if prediction[0][0] > 0.5 else 'Negative'\n",
    "    \n",
    "    return sentiment, prediction[0][0]\n",
    "\n"
   ]
  },
  {
   "cell_type": "code",
   "execution_count": 9,
   "metadata": {},
   "outputs": [
    {
     "name": "stdout",
     "output_type": "stream",
     "text": [
      "\u001b[1m1/1\u001b[0m \u001b[32m━━━━━━━━━━━━━━━━━━━━\u001b[0m\u001b[37m\u001b[0m \u001b[1m0s\u001b[0m 364ms/step\n",
      "Review: This movie was fantastic! The acting was great and the plot was thrilling.\n",
      "Sentiment: Positive\n",
      "Prediction Score: 0.651254415512085\n"
     ]
    }
   ],
   "source": [
    "# Step 4: User Input and Prediction\n",
    "# Example review for prediction\n",
    "example_review = \"This movie was fantastic! The acting was great and the plot was thrilling.\"\n",
    "\n",
    "sentiment,score=predict_sentiment(example_review)\n",
    "\n",
    "print(f'Review: {example_review}')\n",
    "print(f'Sentiment: {sentiment}')\n",
    "print(f'Prediction Score: {score}')"
   ]
  },
  {
   "cell_type": "code",
   "execution_count": null,
   "metadata": {},
   "outputs": [],
   "source": []
  }
 ],
 "metadata": {
  "kernelspec": {
   "display_name": "Python 3",
   "language": "python",
   "name": "python3"
  },
  "language_info": {
   "codemirror_mode": {
    "name": "ipython",
    "version": 3
   },
   "file_extension": ".py",
   "mimetype": "text/x-python",
   "name": "python",
   "nbconvert_exporter": "python",
   "pygments_lexer": "ipython3",
   "version": "3.11.0"
  }
 },
 "nbformat": 4,
 "nbformat_minor": 2
}
